{
 "cells": [
  {
   "cell_type": "markdown",
   "id": "373c7839-b8f7-4f8a-930f-2d62975cf5b2",
   "metadata": {},
   "source": [
    "# Making a million dollars. What does it take?"
   ]
  },
  {
   "cell_type": "code",
   "execution_count": 2,
   "id": "b65b2e91-b20c-4ac6-882d-2cbbeeebc1b2",
   "metadata": {},
   "outputs": [],
   "source": [
    "import sys, os\n",
    "sys.path.extend([\"com\"])\n",
    "from cli_interface import generic_cli"
   ]
  },
  {
   "cell_type": "code",
   "execution_count": 3,
   "id": "d69ea118-3de7-45c1-8456-79e5cd26f072",
   "metadata": {},
   "outputs": [],
   "source": [
    "goal_value = 1_000_000 # One million Dollars"
   ]
  },
  {
   "cell_type": "code",
   "execution_count": 9,
   "id": "f1e9f99b-cf61-44bd-a546-410c43135461",
   "metadata": {},
   "outputs": [
    {
     "name": "stdout",
     "output_type": "stream",
     "text": [
      "$83,333.33 per month\n",
      "$38,461.54 per work week\n",
      "$3,846.15 per work day\n",
      "$480.77 per work hour\n"
     ]
    }
   ],
   "source": [
    "\n",
    "cli = generic_cli()\n",
    "print(f\"{cli.currency(goal_value / 12)} per month\")\n",
    "print(f\"{cli.currency(goal_value / 26)} per work week\")\n",
    "print(f\"{cli.currency(goal_value / (26*10))} per work day\")\n",
    "print(f\"{cli.currency(goal_value / (26*80))} per work hour\")\n"
   ]
  },
  {
   "cell_type": "code",
   "execution_count": null,
   "id": "f743ea58-9b89-49ee-884d-98968d53331f",
   "metadata": {},
   "outputs": [],
   "source": []
  }
 ],
 "metadata": {
  "kernelspec": {
   "display_name": "Python 3 (ipykernel)",
   "language": "python",
   "name": "python3"
  },
  "language_info": {
   "codemirror_mode": {
    "name": "ipython",
    "version": 3
   },
   "file_extension": ".py",
   "mimetype": "text/x-python",
   "name": "python",
   "nbconvert_exporter": "python",
   "pygments_lexer": "ipython3",
   "version": "3.9.0"
  }
 },
 "nbformat": 4,
 "nbformat_minor": 5
}
