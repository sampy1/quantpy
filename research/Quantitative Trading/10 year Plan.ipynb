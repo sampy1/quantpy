{
 "cells": [
  {
   "cell_type": "markdown",
   "id": "6f342590-b5b1-4ab9-9fe5-348191ac2187",
   "metadata": {},
   "source": [
    "# 10 Year Plan"
   ]
  },
  {
   "cell_type": "markdown",
   "id": "cf444607-9435-4759-a991-83be1ba1a5e0",
   "metadata": {},
   "source": [
    "I want to create a 10 year plan to get Finanically Independent. But that begs the question as to what is \"Financially Independent\"?"
   ]
  },
  {
   "cell_type": "code",
   "execution_count": 3,
   "id": "f65ecbfa-40f3-4c4d-b698-14aba3ad252f",
   "metadata": {},
   "outputs": [],
   "source": [
    "import pandas as pd\n",
    "import numpy as np"
   ]
  },
  {
   "cell_type": "code",
   "execution_count": 4,
   "id": "d73d25e0-f003-4e47-939e-233dedc7a55b",
   "metadata": {},
   "outputs": [
    {
     "name": "stdout",
     "output_type": "stream",
     "text": [
      "156000\n"
     ]
    }
   ],
   "source": [
    "salary = 156_000\n",
    "print(salary)"
   ]
  },
  {
   "cell_type": "code",
   "execution_count": null,
   "id": "d98b47d8-b005-4552-90fe-5678a51c8728",
   "metadata": {},
   "outputs": [],
   "source": []
  }
 ],
 "metadata": {
  "kernelspec": {
   "display_name": "Python 3 (ipykernel)",
   "language": "python",
   "name": "python3"
  },
  "language_info": {
   "codemirror_mode": {
    "name": "ipython",
    "version": 3
   },
   "file_extension": ".py",
   "mimetype": "text/x-python",
   "name": "python",
   "nbconvert_exporter": "python",
   "pygments_lexer": "ipython3",
   "version": "3.9.0"
  }
 },
 "nbformat": 4,
 "nbformat_minor": 5
}
