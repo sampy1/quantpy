{
 "cells": [
  {
   "cell_type": "markdown",
   "id": "dec0dc76-f57d-4de9-9f26-a6d7d59afcc7",
   "metadata": {},
   "source": [
    "# Setup\n",
    "\n",
    "The configuration class allows for a single entry point that can be shared amongst notebook pages. "
   ]
  },
  {
   "cell_type": "code",
   "execution_count": 1,
   "id": "8486b78f-9b1b-4316-9092-ba482e447ff4",
   "metadata": {},
   "outputs": [
    {
     "name": "stdout",
     "output_type": "stream",
     "text": [
      "Stored 'tickers' (list)\n",
      "Stored 'api_key' (str)\n"
     ]
    }
   ],
   "source": [
    "tickers = ['spy', 'qqq', 'csv', 'avgo']\n",
    "%store tickers\n",
    "del tickers\n",
    "\n",
    "api_key = \"78688deee193b2aa6490ea5756e2573b\"\n",
    "%store api_key\n",
    "del api_key"
   ]
  },
  {
   "cell_type": "markdown",
   "id": "64baf730-446e-4d86-a954-154041b87ef6",
   "metadata": {},
   "source": [
    "## Example of sharing a class between pages:"
   ]
  },
  {
   "cell_type": "code",
   "execution_count": 2,
   "id": "363b4d6f-5d70-4958-8aed-d489a06d6553",
   "metadata": {},
   "outputs": [
    {
     "name": "stdout",
     "output_type": "stream",
     "text": [
      "['spy', 'qqq', 'csv']\n"
     ]
    }
   ],
   "source": [
    "class configuration():\n",
    "    # add tickers here\n",
    "    tickers = ['spy', 'qqq', 'csv'] \n",
    "\n",
    "cf = configuration()\n",
    "cf.tickers\n",
    "\n",
    "\n",
    "#import nbimporter\n",
    "#from Setup_nb import configuration\n",
    "\n",
    "config = configuration()\n",
    "\n",
    "print(config.tickers)"
   ]
  },
  {
   "cell_type": "code",
   "execution_count": null,
   "id": "44f49b35-a9d0-4248-8b75-8c272310c45b",
   "metadata": {},
   "outputs": [],
   "source": []
  },
  {
   "cell_type": "code",
   "execution_count": null,
   "id": "779bc019-517c-4d08-8676-3113386313d8",
   "metadata": {},
   "outputs": [],
   "source": []
  }
 ],
 "metadata": {
  "kernelspec": {
   "display_name": "Python 3 (ipykernel)",
   "language": "python",
   "name": "python3"
  },
  "language_info": {
   "codemirror_mode": {
    "name": "ipython",
    "version": 3
   },
   "file_extension": ".py",
   "mimetype": "text/x-python",
   "name": "python",
   "nbconvert_exporter": "python",
   "pygments_lexer": "ipython3",
   "version": "3.9.0"
  }
 },
 "nbformat": 4,
 "nbformat_minor": 5
}
