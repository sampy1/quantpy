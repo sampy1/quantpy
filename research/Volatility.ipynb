{
 "cells": [
  {
   "cell_type": "markdown",
   "id": "43185a70-b4bd-4b31-9fe9-30d7e4305a22",
   "metadata": {},
   "source": [
    "<a id='volatility'></a>\n",
    "# Volatility\n",
    "\n",
    "Volatility is a statistical measure of the dispersion of returns for a given security or market index. \n",
    "\n",
    "This module puspose to determine a position or set of positions relative volatility with the goal of giving a volitity grade as defined by the best known sources."
   ]
  },
  {
   "cell_type": "code",
   "execution_count": 2,
   "id": "8ab081ff-165a-4966-8ce5-e11a00d179d2",
   "metadata": {},
   "outputs": [
    {
     "data": {
      "text/plain": [
       "['spy', 'qqq', 'csv', 'avgo']"
      ]
     },
     "execution_count": 2,
     "metadata": {},
     "output_type": "execute_result"
    }
   ],
   "source": [
    "%store -r tickers\n",
    "tickers"
   ]
  },
  {
   "cell_type": "code",
   "execution_count": null,
   "id": "088b5598-917d-47a7-8384-4c25b594381d",
   "metadata": {},
   "outputs": [],
   "source": []
  },
  {
   "cell_type": "markdown",
   "id": "a4fa2534-deaf-4618-a85b-8cbf68738857",
   "metadata": {},
   "source": [
    "## Sources: \n",
    "1. https://www.investopedia.com/terms/v/volatility.asp"
   ]
  }
 ],
 "metadata": {
  "kernelspec": {
   "display_name": "Python 3 (ipykernel)",
   "language": "python",
   "name": "python3"
  },
  "language_info": {
   "codemirror_mode": {
    "name": "ipython",
    "version": 3
   },
   "file_extension": ".py",
   "mimetype": "text/x-python",
   "name": "python",
   "nbconvert_exporter": "python",
   "pygments_lexer": "ipython3",
   "version": "3.9.0"
  }
 },
 "nbformat": 4,
 "nbformat_minor": 5
}
